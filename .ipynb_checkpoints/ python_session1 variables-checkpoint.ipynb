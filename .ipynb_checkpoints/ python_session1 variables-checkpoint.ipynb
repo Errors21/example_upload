{
 "cells": [
  {
   "cell_type": "code",
   "execution_count": null,
   "id": "64780688-2759-4dec-ad1b-ead33e95bb41",
   "metadata": {},
   "outputs": [],
   "source": [
    "# make a little change"
   ]
  },
  {
   "cell_type": "markdown",
   "id": "32516e0a-e8dd-40c8-899a-ec01eb8d42fb",
   "metadata": {},
   "source": [
    "**Variables**"
   ]
  },
  {
   "cell_type": "markdown",
   "id": "ab1b45ef-8d51-4b55-b6d6-2f263ec17c26",
   "metadata": {},
   "source": [
    "- 1 Variable can stores values.\n",
    "- 2 which can vary(change)during program."
   ]
  },
  {
   "cell_type": "code",
   "execution_count": 5,
   "id": "10f06884-8e19-4be8-ba4f-6c16025d0689",
   "metadata": {},
   "outputs": [
    {
     "data": {
      "text/plain": [
       "100"
      ]
     },
     "execution_count": 5,
     "metadata": {},
     "output_type": "execute_result"
    }
   ],
   "source": [
    "number=100\n",
    "number\n",
    "#100 is store in variable called 'number'"
   ]
  },
  {
   "cell_type": "code",
   "execution_count": 17,
   "id": "b07834e9-26fd-4fb2-801f-44285d19e58a",
   "metadata": {},
   "outputs": [
    {
     "data": {
      "text/plain": [
       "200"
      ]
     },
     "execution_count": 17,
     "metadata": {},
     "output_type": "execute_result"
    }
   ],
   "source": [
    "number=200\n",
    "number\n",
    "#200 is storing in varable called 'number'"
   ]
  },
  {
   "cell_type": "code",
   "execution_count": 27,
   "id": "4e764e16-80fd-409d-8c16-44eeb24f193f",
   "metadata": {},
   "outputs": [
    {
     "data": {
      "text/plain": [
       "200"
      ]
     },
     "execution_count": 27,
     "metadata": {},
     "output_type": "execute_result"
    }
   ],
   "source": [
    "number\n",
    "#type nu\n",
    "#click on tab option\n",
    "#name of variable will come starting form nu"
   ]
  },
  {
   "cell_type": "code",
   "execution_count": 29,
   "id": "258eaf77-0838-432c-8247-bdfe6f17c3cc",
   "metadata": {},
   "outputs": [],
   "source": [
    "number=100\n",
    "Number=200\n",
    "NUmber=300\n",
    "NUMBER=400"
   ]
  },
  {
   "cell_type": "code",
   "execution_count": 33,
   "id": "83280539-2dfa-4212-8bf2-748d5fc07a4f",
   "metadata": {},
   "outputs": [
    {
     "data": {
      "text/plain": [
       "200"
      ]
     },
     "execution_count": 33,
     "metadata": {},
     "output_type": "execute_result"
    }
   ],
   "source": [
    "Number\n",
    "#type Nu\n",
    "#click on tab option\n",
    "#names of variables start form Nu"
   ]
  },
  {
   "cell_type": "code",
   "execution_count": 35,
   "id": "f9dff89f-617d-4379-b2ce-17c3ce5edfd3",
   "metadata": {},
   "outputs": [
    {
     "ename": "SyntaxError",
     "evalue": "invalid decimal literal (1167895427.py, line 1)",
     "output_type": "error",
     "traceback": [
      "\u001b[1;36m  Cell \u001b[1;32mIn[35], line 1\u001b[1;36m\u001b[0m\n\u001b[1;33m    123name=100\u001b[0m\n\u001b[1;37m      ^\u001b[0m\n\u001b[1;31mSyntaxError\u001b[0m\u001b[1;31m:\u001b[0m invalid decimal literal\n"
     ]
    }
   ],
   "source": [
    "123name=100\n",
    "#number should not start with number "
   ]
  },
  {
   "cell_type": "code",
   "execution_count": 37,
   "id": "f06e8b6d-f7c0-462a-b247-01f61a34dc7d",
   "metadata": {},
   "outputs": [
    {
     "ename": "SyntaxError",
     "evalue": "cannot assign to expression here. Maybe you meant '==' instead of '='? (3950969255.py, line 1)",
     "output_type": "error",
     "traceback": [
      "\u001b[1;36m  Cell \u001b[1;32mIn[37], line 1\u001b[1;36m\u001b[0m\n\u001b[1;33m    number*one=100\u001b[0m\n\u001b[1;37m    ^\u001b[0m\n\u001b[1;31mSyntaxError\u001b[0m\u001b[1;31m:\u001b[0m cannot assign to expression here. Maybe you meant '==' instead of '='?\n"
     ]
    }
   ],
   "source": [
    "number*one=100\n",
    "#variable should not have special charecters in it. "
   ]
  },
  {
   "cell_type": "code",
   "execution_count": 41,
   "id": "a3452272-6ca0-4ad1-8763-d2b46ccfd01b",
   "metadata": {},
   "outputs": [
    {
     "data": {
      "text/plain": [
       "100"
      ]
     },
     "execution_count": 41,
     "metadata": {},
     "output_type": "execute_result"
    }
   ],
   "source": [
    "nuber_one=100\n",
    "number\n",
    "#only under score is allow in variable name"
   ]
  },
  {
   "cell_type": "markdown",
   "id": "9f8c4201-1226-46aa-b5c4-ceecfbe78e6c",
   "metadata": {},
   "source": [
    "**Charecterstrickes of Variable**\n",
    "- variables are case sensitive\n",
    "- variable can represent as capital letters\n",
    "- variables csn have both combination of letters ie., capitals and small\n",
    "- python will consider letest vales\n",
    "- variables does not strat with numbers\n",
    "- variable have number at last\n",
    "- variables does not contain special chareters ie.,#,* \n",
    "- variable do not contain space in it\n",
    "- only under score is allow\n",
    "- key word or reserved word are not allow"
   ]
  },
  {
   "cell_type": "code",
   "execution_count": 45,
   "id": "eee8febc-7fa7-4c42-9399-cddf2d0fa888",
   "metadata": {},
   "outputs": [
    {
     "data": {
      "text/plain": [
       "200"
      ]
     },
     "execution_count": 45,
     "metadata": {},
     "output_type": "execute_result"
    }
   ],
   "source": [
    "NUM_BER=200\n",
    "NUM_BER"
   ]
  },
  {
   "cell_type": "code",
   "execution_count": null,
   "id": "3ce56a01-cb5c-4ded-89bd-06f8f207715f",
   "metadata": {},
   "outputs": [],
   "source": []
  }
 ],
 "metadata": {
  "kernelspec": {
   "display_name": "Python 3 (ipykernel)",
   "language": "python",
   "name": "python3"
  },
  "language_info": {
   "codemirror_mode": {
    "name": "ipython",
    "version": 3
   },
   "file_extension": ".py",
   "mimetype": "text/x-python",
   "name": "python",
   "nbconvert_exporter": "python",
   "pygments_lexer": "ipython3",
   "version": "3.12.4"
  }
 },
 "nbformat": 4,
 "nbformat_minor": 5
}
